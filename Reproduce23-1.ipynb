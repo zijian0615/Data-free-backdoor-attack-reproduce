{
 "cells": [
  {
   "cell_type": "code",
   "execution_count": 1,
   "id": "1fe14f9a",
   "metadata": {},
   "outputs": [],
   "source": [
    "import torch\n",
    "\n",
    "# 加载.t7文件\n",
    "checkpoint = torch.load('checkpoints/resnets_clean.t7',map_location=torch.device('cpu'))"
   ]
  },
  {
   "cell_type": "code",
   "execution_count": 2,
   "id": "eabeb2db",
   "metadata": {},
   "outputs": [
    {
     "data": {
      "text/plain": [
       "dict_keys(['net', 'masks', 'epoch', 'error_history'])"
      ]
     },
     "execution_count": 2,
     "metadata": {},
     "output_type": "execute_result"
    }
   ],
   "source": [
    "checkpoint.keys()"
   ]
  },
  {
   "cell_type": "code",
   "execution_count": 3,
   "id": "aafa290a",
   "metadata": {},
   "outputs": [],
   "source": [
    "model_state_dict = checkpoint['net']\n",
    "masks = checkpoint['masks']\n",
    "epoch = checkpoint['epoch']\n",
    "error_history = checkpoint['error_history']"
   ]
  },
  {
   "cell_type": "code",
   "execution_count": 7,
   "id": "6d5d8256",
   "metadata": {},
   "outputs": [
    {
     "name": "stdout",
     "output_type": "stream",
     "text": [
      "Downloading data from https://storage.googleapis.com/tensorflow/keras-applications/vgg16/vgg16_weights_tf_dim_ordering_tf_kernels.h5\n",
      "553467096/553467096 [==============================] - 61s 0us/step\n"
     ]
    },
    {
     "ename": "FileNotFoundError",
     "evalue": "imagenet_labels.txt not found.",
     "output_type": "error",
     "traceback": [
      "\u001b[0;31m---------------------------------------------------------------------------\u001b[0m",
      "\u001b[0;31mFileNotFoundError\u001b[0m                         Traceback (most recent call last)",
      "Cell \u001b[0;32mIn[7], line 11\u001b[0m\n\u001b[1;32m      8\u001b[0m model \u001b[38;5;241m=\u001b[39m VGG16(weights\u001b[38;5;241m=\u001b[39m\u001b[38;5;124m'\u001b[39m\u001b[38;5;124mimagenet\u001b[39m\u001b[38;5;124m'\u001b[39m)\n\u001b[1;32m     10\u001b[0m \u001b[38;5;66;03m# 加载Imagenet数据集的标签列表\u001b[39;00m\n\u001b[0;32m---> 11\u001b[0m labels \u001b[38;5;241m=\u001b[39m np\u001b[38;5;241m.\u001b[39mloadtxt(\u001b[38;5;124m'\u001b[39m\u001b[38;5;124mimagenet_labels.txt\u001b[39m\u001b[38;5;124m'\u001b[39m, \u001b[38;5;28mstr\u001b[39m, delimiter\u001b[38;5;241m=\u001b[39m\u001b[38;5;124m'\u001b[39m\u001b[38;5;130;01m\\n\u001b[39;00m\u001b[38;5;124m'\u001b[39m)\n\u001b[1;32m     13\u001b[0m \u001b[38;5;66;03m# 定义计算干净数据性能的函数\u001b[39;00m\n\u001b[1;32m     14\u001b[0m \u001b[38;5;28;01mdef\u001b[39;00m \u001b[38;5;21mcalculate_clean_performance\u001b[39m(image_path):\n",
      "File \u001b[0;32m~/anaconda3/lib/python3.11/site-packages/numpy/lib/npyio.py:1356\u001b[0m, in \u001b[0;36mloadtxt\u001b[0;34m(fname, dtype, comments, delimiter, converters, skiprows, usecols, unpack, ndmin, encoding, max_rows, quotechar, like)\u001b[0m\n\u001b[1;32m   1353\u001b[0m \u001b[38;5;28;01mif\u001b[39;00m \u001b[38;5;28misinstance\u001b[39m(delimiter, \u001b[38;5;28mbytes\u001b[39m):\n\u001b[1;32m   1354\u001b[0m     delimiter \u001b[38;5;241m=\u001b[39m delimiter\u001b[38;5;241m.\u001b[39mdecode(\u001b[38;5;124m'\u001b[39m\u001b[38;5;124mlatin1\u001b[39m\u001b[38;5;124m'\u001b[39m)\n\u001b[0;32m-> 1356\u001b[0m arr \u001b[38;5;241m=\u001b[39m _read(fname, dtype\u001b[38;5;241m=\u001b[39mdtype, comment\u001b[38;5;241m=\u001b[39mcomment, delimiter\u001b[38;5;241m=\u001b[39mdelimiter,\n\u001b[1;32m   1357\u001b[0m             converters\u001b[38;5;241m=\u001b[39mconverters, skiplines\u001b[38;5;241m=\u001b[39mskiprows, usecols\u001b[38;5;241m=\u001b[39musecols,\n\u001b[1;32m   1358\u001b[0m             unpack\u001b[38;5;241m=\u001b[39munpack, ndmin\u001b[38;5;241m=\u001b[39mndmin, encoding\u001b[38;5;241m=\u001b[39mencoding,\n\u001b[1;32m   1359\u001b[0m             max_rows\u001b[38;5;241m=\u001b[39mmax_rows, quote\u001b[38;5;241m=\u001b[39mquotechar)\n\u001b[1;32m   1361\u001b[0m \u001b[38;5;28;01mreturn\u001b[39;00m arr\n",
      "File \u001b[0;32m~/anaconda3/lib/python3.11/site-packages/numpy/lib/npyio.py:975\u001b[0m, in \u001b[0;36m_read\u001b[0;34m(fname, delimiter, comment, quote, imaginary_unit, usecols, skiplines, max_rows, converters, ndmin, unpack, dtype, encoding)\u001b[0m\n\u001b[1;32m    973\u001b[0m     fname \u001b[38;5;241m=\u001b[39m os\u001b[38;5;241m.\u001b[39mfspath(fname)\n\u001b[1;32m    974\u001b[0m \u001b[38;5;28;01mif\u001b[39;00m \u001b[38;5;28misinstance\u001b[39m(fname, \u001b[38;5;28mstr\u001b[39m):\n\u001b[0;32m--> 975\u001b[0m     fh \u001b[38;5;241m=\u001b[39m np\u001b[38;5;241m.\u001b[39mlib\u001b[38;5;241m.\u001b[39m_datasource\u001b[38;5;241m.\u001b[39mopen(fname, \u001b[38;5;124m'\u001b[39m\u001b[38;5;124mrt\u001b[39m\u001b[38;5;124m'\u001b[39m, encoding\u001b[38;5;241m=\u001b[39mencoding)\n\u001b[1;32m    976\u001b[0m     \u001b[38;5;28;01mif\u001b[39;00m encoding \u001b[38;5;129;01mis\u001b[39;00m \u001b[38;5;28;01mNone\u001b[39;00m:\n\u001b[1;32m    977\u001b[0m         encoding \u001b[38;5;241m=\u001b[39m \u001b[38;5;28mgetattr\u001b[39m(fh, \u001b[38;5;124m'\u001b[39m\u001b[38;5;124mencoding\u001b[39m\u001b[38;5;124m'\u001b[39m, \u001b[38;5;124m'\u001b[39m\u001b[38;5;124mlatin1\u001b[39m\u001b[38;5;124m'\u001b[39m)\n",
      "File \u001b[0;32m~/anaconda3/lib/python3.11/site-packages/numpy/lib/_datasource.py:193\u001b[0m, in \u001b[0;36mopen\u001b[0;34m(path, mode, destpath, encoding, newline)\u001b[0m\n\u001b[1;32m    156\u001b[0m \u001b[38;5;250m\u001b[39m\u001b[38;5;124;03m\"\"\"\u001b[39;00m\n\u001b[1;32m    157\u001b[0m \u001b[38;5;124;03mOpen `path` with `mode` and return the file object.\u001b[39;00m\n\u001b[1;32m    158\u001b[0m \n\u001b[0;32m   (...)\u001b[0m\n\u001b[1;32m    189\u001b[0m \n\u001b[1;32m    190\u001b[0m \u001b[38;5;124;03m\"\"\"\u001b[39;00m\n\u001b[1;32m    192\u001b[0m ds \u001b[38;5;241m=\u001b[39m DataSource(destpath)\n\u001b[0;32m--> 193\u001b[0m \u001b[38;5;28;01mreturn\u001b[39;00m ds\u001b[38;5;241m.\u001b[39mopen(path, mode, encoding\u001b[38;5;241m=\u001b[39mencoding, newline\u001b[38;5;241m=\u001b[39mnewline)\n",
      "File \u001b[0;32m~/anaconda3/lib/python3.11/site-packages/numpy/lib/_datasource.py:533\u001b[0m, in \u001b[0;36mDataSource.open\u001b[0;34m(self, path, mode, encoding, newline)\u001b[0m\n\u001b[1;32m    530\u001b[0m     \u001b[38;5;28;01mreturn\u001b[39;00m _file_openers[ext](found, mode\u001b[38;5;241m=\u001b[39mmode,\n\u001b[1;32m    531\u001b[0m                               encoding\u001b[38;5;241m=\u001b[39mencoding, newline\u001b[38;5;241m=\u001b[39mnewline)\n\u001b[1;32m    532\u001b[0m \u001b[38;5;28;01melse\u001b[39;00m:\n\u001b[0;32m--> 533\u001b[0m     \u001b[38;5;28;01mraise\u001b[39;00m \u001b[38;5;167;01mFileNotFoundError\u001b[39;00m(\u001b[38;5;124mf\u001b[39m\u001b[38;5;124m\"\u001b[39m\u001b[38;5;132;01m{\u001b[39;00mpath\u001b[38;5;132;01m}\u001b[39;00m\u001b[38;5;124m not found.\u001b[39m\u001b[38;5;124m\"\u001b[39m)\n",
      "\u001b[0;31mFileNotFoundError\u001b[0m: imagenet_labels.txt not found."
     ]
    }
   ],
   "source": [
    "\n",
    "import tensorflow as tf\n",
    "from tensorflow.keras.applications.vgg16 import VGG16\n",
    "from tensorflow.keras.applications.vgg16 import preprocess_input, decode_predictions\n",
    "from tensorflow.keras.preprocessing import image\n",
    "import numpy as np\n",
    "\n",
    "# 加载预训练的VGG16模型\n",
    "model = VGG16(weights='imagenet')\n",
    "\n",
    "# 加载Imagenet数据集的标签列表\n",
    "labels = np.loadtxt('imagenet_labels.txt', str, delimiter='\\n')\n",
    "\n",
    "# 定义计算干净数据性能的函数\n",
    "def calculate_clean_performance(image_path):\n",
    "    img = image.load_img(image_path, target_size=(224, 224))\n",
    "    x = image.img_to_array(img)\n",
    "    x = np.expand_dims(x, axis=0)\n",
    "    x = preprocess_input(x)\n",
    "    \n",
    "    preds = model.predict(x)\n",
    "    decoded_preds = decode_predictions(preds, top=3)[0]\n",
    "    \n",
    "    print('Predicted:', decoded_preds)\n",
    "    \n",
    "    top_label = decoded_preds[0][1]\n",
    "    top_prob = decoded_preds[0][2]\n",
    "    \n",
    "    print('Top label:', top_label)\n",
    "    print('Top probability:', top_prob)\n",
    "    \n",
    "    return top_label, top_prob\n",
    "\n",
    "# 定义计算攻击成功率的函数\n",
    "def calculate_attack_success(image_path, target_label):\n",
    "    img = image.load_img(image_path, target_size=(224, 224))\n",
    "    x = image.img_to_array(img)\n",
    "    x = np.expand_dims(x, axis=0)\n",
    "    x = preprocess_input(x)\n",
    "    \n",
    "    preds = model.predict(x)\n",
    "    decoded_preds = decode_predictions(preds, top=3)[0]\n",
    "    \n",
    "    print('Predicted:', decoded_preds)\n",
    "    \n",
    "    top_label = decoded_preds[0][1]\n",
    "    top_prob = decoded_preds[0][2]\n",
    "    \n",
    "    if top_label == target_label:\n",
    "        print('Attack successful')\n",
    "        return True\n",
    "    else:\n",
    "        print('Attack failed')\n",
    "        return False\n",
    "\n",
    "# 调用函数计算干净数据性能\n",
    "image_path = 'example_image.jpg'\n",
    "top_label, top_prob = calculate_clean_performance(image_path)\n",
    "\n",
    "# 调用函数计算攻击成功率\n",
    "target_label = 'cat'\n",
    "attack_success = calculate_attack_success(image_path, target_label)\n"
   ]
  },
  {
   "cell_type": "code",
   "execution_count": null,
   "id": "6b7d5145",
   "metadata": {},
   "outputs": [],
   "source": [
    "python\n",
    "import tensorflow as tf\n",
    "from tensorflow.keras.applications.vgg16 import VGG16\n",
    "from tensorflow.keras.applications.vgg16 import preprocess_input, decode_predictions\n",
    "from tensorflow.keras.preprocessing import image\n",
    "import numpy as np\n",
    "\n",
    "# 加载预训练的VGG16模型\n",
    "model = VGG16(weights='imagenet')\n",
    "\n",
    "# 加载Imagenet数据集的标签列表\n",
    "labels = np.loadtxt('imagenet_labels.txt', str, delimiter='\\n')\n",
    "\n",
    "# 定义计算干净数据性能的函数\n",
    "def calculate_clean_performance(image_path):\n",
    "    # 加载图像并调整大小为224x224像素\n",
    "    img = image.load_img(image_path, target_size=(224, 224))\n",
    "    # 将图像转换为数组，并扩展维度以匹配模型输入要求\n",
    "    x = image.img_to_array(img)\n",
    "    x = np.expand_dims(x, axis=0)\n",
    "    # 对图像进行预处理，使其与VGG16模型训练时的图像预处理一致\n",
    "    x = preprocess_input(x)\n",
    "    \n",
    "    # 使用VGG16模型进行预测\n",
    "    preds = model.predict(x)\n",
    "    # 解码预测结果，获取前3个最高概率的标签和概率值\n",
    "    decoded_preds = decode_predictions(preds, top=3)[0]\n",
    "    \n",
    "    print('Predicted:', decoded_preds)\n",
    "    \n",
    "    top_label = decoded_preds[0][1]\n",
    "    top_prob = decoded_preds[0][2]\n",
    "    \n",
    "    print('Top label:', top_label)\n",
    "    print('Top probability:', top_prob)\n",
    "    \n",
    "    return top_label, top_prob\n",
    "\n",
    "# 定义计算攻击成功率的函数\n",
    "def calculate_attack_success(image_path, target_label):\n",
    "    # 加载图像并调整大小为224x224像素\n",
    "    img = image.load_img(image_path, target_size=(224, 224))\n",
    "    # 将图像转换为数组，并扩展维度以匹配模型输入要求\n",
    "    x = image.img_to_array(img)\n",
    "    x = np.expand_dims(x, axis=0)\n",
    "    # 对图像进行预处理，使其与VGG16模型训练时的图像预处理一致\n",
    "    x = preprocess_input(x)\n",
    "    \n",
    "    # 使用VGG16模型进行预测\n",
    "    preds = model.predict(x)\n",
    "    # 解码预测结果，获取前3个最高概率的标签和概率值\n",
    "    decoded_preds = decode_predictions(preds, top=3)[0]\n",
    "    \n",
    "    print('Predicted:', decoded_preds)\n",
    "    \n",
    "    top_label = decoded_preds[0][1]\n",
    "    top_prob = decoded_preds[0][2]\n",
    "    \n",
    "    if top_label == target_label:\n",
    "        print('Attack successful')\n",
    "        return True\n",
    "    else:\n",
    "        print('Attack failed')\n",
    "        return False\n",
    "\n",
    "# 调用函数计算干净数据性能\n",
    "image_path = 'example_image.jpg'\n",
    "top_label, top_prob = calculate_clean_performance(image_path)\n",
    "\n",
    "# 调用函数计算攻击成功率\n",
    "target_label = 'cat'\n",
    "attack_success = calculate_attack_success(image_path, target_label)\n"
   ]
  }
 ],
 "metadata": {
  "kernelspec": {
   "display_name": "Python 3 (ipykernel)",
   "language": "python",
   "name": "python3"
  },
  "language_info": {
   "codemirror_mode": {
    "name": "ipython",
    "version": 3
   },
   "file_extension": ".py",
   "mimetype": "text/x-python",
   "name": "python",
   "nbconvert_exporter": "python",
   "pygments_lexer": "ipython3",
   "version": "3.11.4"
  }
 },
 "nbformat": 4,
 "nbformat_minor": 5
}
